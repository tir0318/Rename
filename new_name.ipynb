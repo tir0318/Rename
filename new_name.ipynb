{
 "cells": [
  {
   "cell_type": "code",
   "execution_count": null,
   "metadata": {},
   "outputs": [],
   "source": [
    "import os\n",
    "import datetime\n",
    "import time\n",
    "\n",
    "path = \"\"\n",
    "past_name = None #1つ前の名前\n",
    "past_sft = None #1つ前の日付\n",
    "i = 0\n",
    "file_get_element = []\n",
    "file_get_path = []\n",
    "\n",
    "file_whole = os.listdir(path)\n",
    "for file_name in file_whole:\n",
    "    file_judgement = file_name.startswith('【')\n",
    "    if file_judgement == False:\n",
    "        file_path = os.path.join(path, file_name)\n",
    "        file_ext = file_name.split('.')[-1] #拡張子\n",
    "        created_time = os.stat(file_path).st_mtime\n",
    "        file_time = datetime.datetime.fromtimestamp(created_time)\n",
    "        file_time = file_time.strftime('【%Y_%m_%d】') #日付\n",
    "\n",
    "        file_get_element.append(file_time + '^' + file_ext + '^' + file_path)\n",
    "        past_sft = file_time\n",
    "\n",
    "file_get_element.sort()\n",
    "\n",
    "for rename_file in file_get_element:\n",
    "    new_file = os.path.join(rename_file.split('^')[0] + '01' + '.' + rename_file.split('^')[1])\n",
    "    new_file_path = os.path.join(path, new_file)\n",
    "    file_list = os.listdir(path)\n",
    "    file_in = [s for s in file_list if rename_file.split('^')[0] in s]\n",
    "    \n",
    "    if file_in != '':\n",
    "        file_number = len(file_in) + 1\n",
    "        if file_number < 10:\n",
    "            file_num1 = file_number\n",
    "            file_num10 = 0\n",
    "            num_str1 = str(file_num1)\n",
    "            num_str10 = str(file_num10)\n",
    "            num_str = num_str10 + num_str1\n",
    "        else:\n",
    "            num_str = str(file_number)\n",
    "\n",
    "        new_file = os.path.join(rename_file.split('^')[0] + num_str + '.' + rename_file.split('^')[1])\n",
    "        new_file_path = os.path.join(path, new_file)\n",
    "        \n",
    "    os.rename(rename_file.split('^')[2], new_file_path) #名前変更\n",
    "    print(new_file, \"変更完了\")\n",
    "    time.sleep(1)\n",
    "    i+=1\n",
    "print(\"終了\")"
   ]
  }
 ],
 "metadata": {
  "interpreter": {
   "hash": "b89b5cfaba6639976dc87ff2fec6d58faec662063367e2c229c520fe71072417"
  },
  "kernelspec": {
   "display_name": "Python 3.10.3 64-bit",
   "language": "python",
   "name": "python3"
  },
  "language_info": {
   "codemirror_mode": {
    "name": "ipython",
    "version": 3
   },
   "file_extension": ".py",
   "mimetype": "text/x-python",
   "name": "python",
   "nbconvert_exporter": "python",
   "pygments_lexer": "ipython3",
   "version": "3.10.3"
  },
  "orig_nbformat": 4
 },
 "nbformat": 4,
 "nbformat_minor": 2
}
